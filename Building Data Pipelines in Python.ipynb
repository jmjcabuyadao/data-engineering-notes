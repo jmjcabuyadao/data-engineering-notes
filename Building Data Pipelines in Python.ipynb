{
 "cells": [
  {
   "cell_type": "code",
   "execution_count": 1,
   "metadata": {},
   "outputs": [],
   "source": [
    "from pyspark.sql import *\n",
    "import singer\n",
    "import json\n",
    "from pprint import pprint"
   ]
  },
  {
   "cell_type": "code",
   "execution_count": 2,
   "metadata": {},
   "outputs": [
    {
     "output_type": "stream",
     "name": "stdout",
     "text": "{\"type\": \"SCHEMA\", \"stream\": \"DC_employees\", \"schema\": {\"properties\": {\"id\": {\"type\": \"integer\"}, \"name\": {\"type\": \"string\"}, \"age\": {\"maximum\": 90, \"minimum\": 16, \"type\": \"integer\"}, \"has_children\": {\"type\": \"boolean\"}}, \"$id\": \"my_user_schema.json\", \"$schema\": \"http://json-schema.org/draft-07/schema#\"}, \"key_properties\": [\"id\"]}\n"
    }
   ],
   "source": [
    "json_schema = {\n",
    "  \"properties\": {\n",
    "    \"id\": {\n",
    "        \"type\": \"integer\"\n",
    "    },\n",
    "    \"name\": {\n",
    "        \"type\": \"string\"\n",
    "    },\n",
    "    \"age\": {\n",
    "        \"maximum\": 90,\n",
    "        \"minimum\": 16,\n",
    "        \"type\": \"integer\"\n",
    "    },\n",
    "    \"has_children\": {\n",
    "        \"type\": \"boolean\"\n",
    "    },\n",
    "  },\n",
    "  \"$id\": \"my_user_schema.json\",\n",
    "  \"$schema\": \"http://json-schema.org/draft-07/schema#\"\n",
    "}\n",
    "\n",
    "singer.write_schema(schema=json_schema,\n",
    "                    stream_name='DC_employees',\n",
    "                    key_properties=['id'])"
   ]
  },
  {
   "cell_type": "code",
   "execution_count": 3,
   "metadata": {},
   "outputs": [
    {
     "output_type": "stream",
     "name": "stdout",
     "text": "{\"type\": \"SCHEMA\", \"stream\": \"products\", \"schema\": {\"properties\": {\"brand\": {\"type\": \"string\"}, \"model\": {\"type\": \"string\"}, \"price\": {\"type\": \"number\"}, \"currency\": {\"type\": \"string\"}, \"quantity\": {\"type\": \"number\", \"minimum\": 1}, \"date\": {\"type\": \"string\", \"format\": \"date\"}, \"countrycode\": {\"type\": \"string\", \"pattern\": \"^[A-Z]{2}$\"}, \"store_name\": {\"type\": \"string\"}}}, \"key_properties\": []}\n"
    }
   ],
   "source": [
    "products_schema = {\n",
    "  \"properties\":{\n",
    "    \"brand\":{\n",
    "        \"type\":\"string\"\n",
    "    },\n",
    "    \"model\":{\n",
    "        \"type\":\"string\"\n",
    "    },\n",
    "    \"price\":{\n",
    "        \"type\":\"number\"\n",
    "    },\n",
    "    \"currency\":{\n",
    "        \"type\":\"string\"\n",
    "    },\n",
    "    \"quantity\":{\n",
    "        \"type\":\"number\",\n",
    "        \"minimum\":1\n",
    "    },\n",
    "    \"date\":{\n",
    "        \"type\":\"string\",\n",
    "        \"format\":\"date\"\n",
    "    },\n",
    "    \"countrycode\":{\n",
    "        \"type\":\"string\",\n",
    "        \"pattern\":\"^[A-Z]{2}$\"\n",
    "    },\n",
    "    \"store_name\":{\n",
    "        \"type\":\"string\"\n",
    "    }\n",
    "  }\n",
    "}\n",
    "\n",
    "singer.write_schema(stream_name='products', schema=products_schema, key_properties=[])"
   ]
  },
  {
   "cell_type": "code",
   "execution_count": 4,
   "metadata": {},
   "outputs": [
    {
     "output_type": "stream",
     "name": "stdout",
     "text": "{\"type\": \"RECORD\", \"stream\": \"DC_employees\", \"record\": {\"id\": 3, \"name\": \"Hilary\", \"age\": 29, \"has_children\": true}}\n"
    }
   ],
   "source": [
    "columns = (\"id\", \"name\", \"age\", \"has_children\")\n",
    "users = {\n",
    "    (1, \"Adrian\", 32, False),\n",
    "    (2, \"Ruanne\", 28, False),\n",
    "    (3, \"Hilary\", 29, True)\n",
    "}\n",
    "\n",
    "singer.write_record(stream_name='DC_employees', record=dict(zip(columns, users.pop())))"
   ]
  },
  {
   "cell_type": "code",
   "execution_count": 5,
   "metadata": {},
   "outputs": [
    {
     "output_type": "stream",
     "name": "stdout",
     "text": "{\"type\": \"RECORD\", \"stream\": \"DC_employees\", \"record\": {\"id\": 2, \"name\": \"Ruanne\", \"age\": 28, \"has_children\": false}}\n"
    }
   ],
   "source": [
    "fixed_dict = { \"type\": \"RECORD\", \"stream\": \"DC_employees\" }\n",
    "record_msg = { **fixed_dict, \"record\": dict(zip(columns, users.pop()))}\n",
    "print(json.dumps(record_msg))"
   ]
  },
  {
   "cell_type": "code",
   "execution_count": 6,
   "metadata": {},
   "outputs": [
    {
     "output_type": "stream",
     "name": "stdout",
     "text": "StructType(List(StructField(crim,StringType,true),StructField(zn,StringType,true),StructField(indus,StringType,true),StructField(chas,StringType,true),StructField(nox,StringType,true),StructField(rm,StringType,true),StructField(age,StringType,true),StructField(dis,StringType,true),StructField(rad,StringType,true),StructField(tax,StringType,true),StructField(ptratio,StringType,true),StructField(b,StringType,true),StructField(lstat,StringType,true),StructField(medv,StringType,true)))\n+-------+----+-----+----+-----+-----+----+------+---+---+-------+------+-----+----+\n|   crim|  zn|indus|chas|  nox|   rm| age|   dis|rad|tax|ptratio|     b|lstat|medv|\n+-------+----+-----+----+-----+-----+----+------+---+---+-------+------+-----+----+\n|0.00632|  18| 2.31|   0|0.538|6.575|65.2|  4.09|  1|296|   15.3| 396.9| 4.98|  24|\n|0.02731|   0| 7.07|   0|0.469|6.421|78.9|4.9671|  2|242|   17.8| 396.9| 9.14|21.6|\n|0.02729|   0| 7.07|   0|0.469|7.185|61.1|4.9671|  2|242|   17.8|392.83| 4.03|34.7|\n|0.03237|   0| 2.18|   0|0.458|6.998|45.8|6.0622|  3|222|   18.7|394.63| 2.94|33.4|\n|0.06905|   0| 2.18|   0|0.458|7.147|54.2|6.0622|  3|222|   18.7| 396.9| 5.33|36.2|\n|0.02985|   0| 2.18|   0|0.458| 6.43|58.7|6.0622|  3|222|   18.7|394.12| 5.21|28.7|\n|0.08829|12.5| 7.87|   0|0.524|6.012|66.6|5.5605|  5|311|   15.2| 395.6|12.43|22.9|\n|0.14455|12.5| 7.87|   0|0.524|6.172|96.1|5.9505|  5|311|   15.2| 396.9|19.15|27.1|\n|0.21124|12.5| 7.87|   0|0.524|5.631| 100|6.0821|  5|311|   15.2|386.63|29.93|16.5|\n|0.17004|12.5| 7.87|   0|0.524|6.004|85.9|6.5921|  5|311|   15.2|386.71| 17.1|18.9|\n|0.22489|12.5| 7.87|   0|0.524|6.377|94.3|6.3467|  5|311|   15.2|392.52|20.45|  15|\n|0.11747|12.5| 7.87|   0|0.524|6.009|82.9|6.2267|  5|311|   15.2| 396.9|13.27|18.9|\n|0.09378|12.5| 7.87|   0|0.524|5.889|  39|5.4509|  5|311|   15.2| 390.5|15.71|21.7|\n|0.62976|   0| 8.14|   0|0.538|5.949|61.8|4.7075|  4|307|     21| 396.9| 8.26|20.4|\n|0.63796|   0| 8.14|   0|0.538|6.096|84.5|4.4619|  4|307|     21|380.02|10.26|18.2|\n|0.62739|   0| 8.14|   0|0.538|5.834|56.5|4.4986|  4|307|     21|395.62| 8.47|19.9|\n|1.05393|   0| 8.14|   0|0.538|5.935|29.3|4.4986|  4|307|     21|386.85| 6.58|23.1|\n| 0.7842|   0| 8.14|   0|0.538| 5.99|81.7|4.2579|  4|307|     21|386.75|14.67|17.5|\n|0.80271|   0| 8.14|   0|0.538|5.456|36.6|3.7965|  4|307|     21|288.99|11.69|20.2|\n| 0.7258|   0| 8.14|   0|0.538|5.727|69.5|3.7965|  4|307|     21|390.95|11.28|18.2|\n+-------+----+-----+----+-----+-----+----+------+---+---+-------+------+-----+----+\nonly showing top 20 rows\n\n"
    }
   ],
   "source": [
    "spark = SparkSession.builder.getOrCreate()\n",
    "\n",
    "boston_housing = spark.read.options(header=True).csv('pyspark-ML-in-Colab/BostonHousing.csv')\n",
    "print(boston_housing.schema)\n",
    "boston_housing.show()"
   ]
  }
 ],
 "metadata": {
  "kernelspec": {
   "display_name": "Python 3.7.7 64-bit ('datacamp': conda)",
   "language": "python",
   "name": "python37764bitdatacampconda64f90a5b0d5b4be4a64df64229450668"
  },
  "language_info": {
   "codemirror_mode": {
    "name": "ipython",
    "version": 3
   },
   "file_extension": ".py",
   "mimetype": "text/x-python",
   "name": "python",
   "nbconvert_exporter": "python",
   "pygments_lexer": "ipython3",
   "version": "3.7.7-final"
  }
 },
 "nbformat": 4,
 "nbformat_minor": 4
}