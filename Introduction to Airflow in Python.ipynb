{
 "cells": [
  {
   "cell_type": "code",
   "execution_count": 1,
   "metadata": {},
   "outputs": [],
   "source": [
    "from datetime import datetime\n",
    "from airflow.models import *\n",
    "from airflow.operators.bash_operator import BashOperator\n",
    "from airflow.operators.python_operator import PythonOperator"
   ]
  },
  {
   "cell_type": "code",
   "execution_count": 2,
   "metadata": {},
   "outputs": [],
   "source": [
    "default_arguments = {\n",
    "    'owner': 'jdoe',\n",
    "    'email': 'jdoe@datacamp.com',\n",
    "    'start_date': datetime(2020, 1, 20)\n",
    "}\n",
    "\n",
    "etl_dag = DAG('etl_workflow', default_args=default_arguments)"
   ]
  },
  {
   "cell_type": "code",
   "execution_count": 3,
   "metadata": {},
   "outputs": [],
   "source": [
    "def printme():\n",
    "    print('This goes in the logs!')\n",
    "\n",
    "def sleep(length_of_time):\n",
    "    time.sleep(length_of_time)"
   ]
  },
  {
   "cell_type": "code",
   "execution_count": 4,
   "metadata": {},
   "outputs": [],
   "source": [
    "print_task = BashOperator(task_id='bash_ex', bash_command='echo \"Hello World!\"', dag=etl_dag)\n",
    "bash_task = BashOperator(task_id='show_text', bash_command='cat notes.txt', dag=etl_dag)\n",
    "python_task = PythonOperator(task_id='simple_print', python_callable=printme, dag=etl_dag)\n",
    "sleep_task = PythonOperator(task_id='sleep', python_callable=sleep, op_kwargs={'length_of_time': 5}, dag=etl_dag)"
   ]
  },
  {
   "cell_type": "code",
   "execution_count": 5,
   "metadata": {},
   "outputs": [
    {
     "output_type": "execute_result",
     "data": {
      "text/plain": "<Task(PythonOperator): sleep>"
     },
     "metadata": {},
     "execution_count": 5
    }
   ],
   "source": [
    "print_task >> bash_task\n",
    "python_task >> bash_task\n",
    "bash_task >> sleep_task"
   ]
  }
 ],
 "metadata": {
  "kernelspec": {
   "display_name": "Python 3.7.7 64-bit ('datacamp': conda)",
   "language": "python",
   "name": "python37764bitdatacampconda64f90a5b0d5b4be4a64df64229450668"
  },
  "language_info": {
   "codemirror_mode": {
    "name": "ipython",
    "version": 3
   },
   "file_extension": ".py",
   "mimetype": "text/x-python",
   "name": "python",
   "nbconvert_exporter": "python",
   "pygments_lexer": "ipython3",
   "version": "3.7.7-final"
  }
 },
 "nbformat": 4,
 "nbformat_minor": 4
}