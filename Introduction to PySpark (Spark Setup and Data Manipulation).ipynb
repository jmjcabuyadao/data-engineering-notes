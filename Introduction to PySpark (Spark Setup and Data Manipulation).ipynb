{
 "cells": [
  {
   "cell_type": "code",
   "execution_count": 1,
   "metadata": {},
   "outputs": [
    {
     "data": {
      "text/plain": [
       "'2.4.5'"
      ]
     },
     "execution_count": 1,
     "metadata": {},
     "output_type": "execute_result"
    }
   ],
   "source": [
    "sc.version"
   ]
  },
  {
   "cell_type": "code",
   "execution_count": 2,
   "metadata": {},
   "outputs": [
    {
     "data": {
      "text/html": [
       "\n",
       "            <div>\n",
       "                <p><b>SparkSession - in-memory</b></p>\n",
       "                \n",
       "        <div>\n",
       "            <p><b>SparkContext</b></p>\n",
       "\n",
       "            <p><a href=\"http://192.168.1.45:4041\">Spark UI</a></p>\n",
       "\n",
       "            <dl>\n",
       "              <dt>Version</dt>\n",
       "                <dd><code>v2.4.5</code></dd>\n",
       "              <dt>Master</dt>\n",
       "                <dd><code>local[*]</code></dd>\n",
       "              <dt>AppName</dt>\n",
       "                <dd><code>PySparkShell</code></dd>\n",
       "            </dl>\n",
       "        </div>\n",
       "        \n",
       "            </div>\n",
       "        "
      ],
      "text/plain": [
       "<pyspark.sql.session.SparkSession at 0x7f0207f03350>"
      ]
     },
     "execution_count": 2,
     "metadata": {},
     "output_type": "execute_result"
    }
   ],
   "source": [
    "import pandas as pd\n",
    "import numpy as np\n",
    "from pyspark.sql import *\n",
    "from pyspark.sql.types import IntegerType\n",
    "from pyspark.sql.functions import stddev as StdDev\n",
    "\n",
    "spark = SparkSession.builder.getOrCreate()\n",
    "spark"
   ]
  },
  {
   "cell_type": "code",
   "execution_count": 3,
   "metadata": {},
   "outputs": [
    {
     "data": {
      "text/plain": [
       "pyspark.rdd.PipelinedRDD"
      ]
     },
     "execution_count": 3,
     "metadata": {},
     "output_type": "execute_result"
    }
   ],
   "source": [
    "csvDataRDD = sc.textFile(\"flights_small.csv\").map(lambda line: line.split(\",\"))\n",
    "type(csvDataRDD)"
   ]
  },
  {
   "cell_type": "code",
   "execution_count": 4,
   "metadata": {},
   "outputs": [
    {
     "data": {
      "text/plain": [
       "[Row(year='2014', month='12', day='8', dep_time='658', dep_delay='-7', arr_time='935', arr_delay='-5', carrier='VX', tailnum='N846VA', flight='1780', origin='SEA', dest='LAX', air_time='132', distance='954', hour='6', minute='58'),\n",
       " Row(year='2014', month='1', day='22', dep_time='1040', dep_delay='5', arr_time='1505', arr_delay='5', carrier='AS', tailnum='N559AS', flight='851', origin='SEA', dest='HNL', air_time='360', distance='2677', hour='10', minute='40'),\n",
       " Row(year='2014', month='3', day='9', dep_time='1443', dep_delay='-2', arr_time='1652', arr_delay='2', carrier='VX', tailnum='N847VA', flight='755', origin='SEA', dest='SFO', air_time='111', distance='679', hour='14', minute='43'),\n",
       " Row(year='2014', month='4', day='9', dep_time='1705', dep_delay='45', arr_time='1839', arr_delay='34', carrier='WN', tailnum='N360SW', flight='344', origin='PDX', dest='SJC', air_time='83', distance='569', hour='17', minute='5'),\n",
       " Row(year='2014', month='3', day='9', dep_time='754', dep_delay='-1', arr_time='1015', arr_delay='1', carrier='AS', tailnum='N612AS', flight='522', origin='SEA', dest='BUR', air_time='127', distance='937', hour='7', minute='54')]"
      ]
     },
     "execution_count": 4,
     "metadata": {},
     "output_type": "execute_result"
    }
   ],
   "source": [
    "header = csvDataRDD.first()\n",
    "csvDataRDD = csvDataRDD.filter(lambda x:x != header)\n",
    "columns = ['year','month','day','dep_time','dep_delay',\n",
    "               'arr_time','arr_delay','carrier','tailnum',\n",
    "               'flight','origin','dest','air_time','distance','hour','minute']\n",
    "csvDataDF = csvDataRDD.toDF(columns)\n",
    "csvDataDF.head(5)"
   ]
  },
  {
   "cell_type": "code",
   "execution_count": 5,
   "metadata": {},
   "outputs": [
    {
     "name": "stdout",
     "output_type": "stream",
     "text": [
      "<class 'pyspark.sql.dataframe.DataFrame'>\n",
      "root\n",
      " |-- year: string (nullable = true)\n",
      " |-- month: string (nullable = true)\n",
      " |-- day: string (nullable = true)\n",
      " |-- dep_time: string (nullable = true)\n",
      " |-- dep_delay: string (nullable = true)\n",
      " |-- arr_time: string (nullable = true)\n",
      " |-- arr_delay: string (nullable = true)\n",
      " |-- carrier: string (nullable = true)\n",
      " |-- tailnum: string (nullable = true)\n",
      " |-- flight: string (nullable = true)\n",
      " |-- origin: string (nullable = true)\n",
      " |-- dest: string (nullable = true)\n",
      " |-- air_time: string (nullable = true)\n",
      " |-- distance: string (nullable = true)\n",
      " |-- hour: string (nullable = true)\n",
      " |-- minute: string (nullable = true)\n",
      "\n"
     ]
    }
   ],
   "source": [
    "print(type(csvDataDF))\n",
    "csvDataDF.printSchema()"
   ]
  },
  {
   "cell_type": "code",
   "execution_count": 6,
   "metadata": {},
   "outputs": [
    {
     "name": "stdout",
     "output_type": "stream",
     "text": [
      "root\n",
      " |-- year: integer (nullable = true)\n",
      " |-- month: integer (nullable = true)\n",
      " |-- day: integer (nullable = true)\n",
      " |-- dep_time: integer (nullable = true)\n",
      " |-- dep_delay: integer (nullable = true)\n",
      " |-- arr_time: integer (nullable = true)\n",
      " |-- arr_delay: integer (nullable = true)\n",
      " |-- carrier: string (nullable = true)\n",
      " |-- tailnum: string (nullable = true)\n",
      " |-- flight: string (nullable = true)\n",
      " |-- origin: string (nullable = true)\n",
      " |-- dest: string (nullable = true)\n",
      " |-- air_time: integer (nullable = true)\n",
      " |-- distance: integer (nullable = true)\n",
      " |-- hour: integer (nullable = true)\n",
      " |-- minute: integer (nullable = true)\n",
      "\n"
     ]
    }
   ],
   "source": [
    "csvDataDF = csvDataDF.withColumn('year', csvDataDF['year'].cast(IntegerType()))\n",
    "csvDataDF = csvDataDF.withColumn('month', csvDataDF['month'].cast(IntegerType()))\n",
    "csvDataDF = csvDataDF.withColumn('day', csvDataDF['day'].cast(IntegerType()))\n",
    "csvDataDF = csvDataDF.withColumn('hour', csvDataDF['hour'].cast(IntegerType()))\n",
    "csvDataDF = csvDataDF.withColumn('minute', csvDataDF['minute'].cast(IntegerType()))\n",
    "csvDataDF = csvDataDF.withColumn('distance', csvDataDF['distance'].cast(IntegerType()))\n",
    "csvDataDF = csvDataDF.withColumn('air_time', csvDataDF['air_time'].cast(IntegerType()))\n",
    "csvDataDF = csvDataDF.withColumn('arr_delay', csvDataDF['arr_delay'].cast(IntegerType()))\n",
    "csvDataDF = csvDataDF.withColumn('dep_delay', csvDataDF['dep_delay'].cast(IntegerType()))\n",
    "csvDataDF = csvDataDF.withColumn('dep_time', csvDataDF['dep_time'].cast(IntegerType()))\n",
    "csvDataDF = csvDataDF.withColumn('arr_time', csvDataDF['arr_time'].cast(IntegerType()))\n",
    "\n",
    "csvDataDF.printSchema()"
   ]
  },
  {
   "cell_type": "code",
   "execution_count": 7,
   "metadata": {},
   "outputs": [],
   "source": [
    "# Write to HIVE\n",
    "csvDataDF.write.format(\"ORC\").saveAsTable(\"flights\")"
   ]
  },
  {
   "cell_type": "code",
   "execution_count": 8,
   "metadata": {},
   "outputs": [
    {
     "name": "stdout",
     "output_type": "stream",
     "text": [
      "+----+-----+---+--------+---------+--------+---------+-------+-------+------+------+----+--------+--------+----+------+\n",
      "|year|month|day|dep_time|dep_delay|arr_time|arr_delay|carrier|tailnum|flight|origin|dest|air_time|distance|hour|minute|\n",
      "+----+-----+---+--------+---------+--------+---------+-------+-------+------+------+----+--------+--------+----+------+\n",
      "|2014|    6| 12|    2121|       16|     518|       10|     UA| N489UA|   501|   SEA| EWR|     275|    2402|  21|    21|\n",
      "|2014|    4| 30|     659|       -1|     952|       -8|     AS| N305AS|   724|   SEA| SLC|      89|     689|   6|    59|\n",
      "|2014|    8| 30|     542|        7|     902|      -10|     UA| N24212|  1578|   SEA| DEN|     121|    1024|   5|    42|\n",
      "|2014|    4| 17|     624|       -6|     834|       -5|     OO| N225AG|  3456|   PDX| BUR|     111|     817|   6|    24|\n",
      "|2014|    9|  8|     705|       -5|    1239|      -21|     AA| N3GEAA|  1507|   SEA| DFW|     185|    1660|   7|     5|\n",
      "|2014|    5|  1|     709|       -3|    1316|       -3|     UA| N409UA|   229|   SEA| IAH|     220|    1874|   7|     9|\n",
      "|2014|    6| 21|    1619|       -1|    1837|      -23|     AS| N309AS|   119|   SEA| ANC|     184|    1448|  16|    19|\n",
      "|2014|    3| 15|     559|       -1|     830|       -8|     AS| N618AS|   506|   SEA| SNA|     128|     978|   5|    59|\n",
      "|2014|    4| 22|    1506|        1|    1714|       -6|     AS| N708AS|   588|   PDX| PSP|     114|     873|  15|     6|\n",
      "|2014|    6|  9|    2055|       -8|    2237|      -22|     OO| N789SK|  5210|   PDX| SFO|      83|     550|  20|    55|\n",
      "+----+-----+---+--------+---------+--------+---------+-------+-------+------+------+----+--------+--------+----+------+\n",
      "\n"
     ]
    }
   ],
   "source": [
    "# Get the first 10 rows of flights\n",
    "flights10 = spark.sql('FROM flights SELECT * LIMIT 10')\n",
    "\n",
    "# Show the results\n",
    "flights10.show()"
   ]
  },
  {
   "cell_type": "code",
   "execution_count": 9,
   "metadata": {},
   "outputs": [
    {
     "name": "stdout",
     "output_type": "stream",
     "text": [
      "  origin dest    N\n",
      "0    SEA  RNO    8\n",
      "1    SEA  DTW   98\n",
      "2    SEA  CLE    2\n",
      "3    SEA  LAX  450\n",
      "4    SEA  BLI    5\n"
     ]
    }
   ],
   "source": [
    "flight_counts = spark.sql('SELECT origin, dest, COUNT(*) as N FROM flights GROUP BY origin, dest')\n",
    "\n",
    "# Convert the results to a pandas DataFrame\n",
    "pd_counts = flight_counts.toPandas()\n",
    "\n",
    "# Print the head of pd_counts\n",
    "print(pd_counts.head())"
   ]
  },
  {
   "cell_type": "code",
   "execution_count": 10,
   "metadata": {},
   "outputs": [
    {
     "name": "stdout",
     "output_type": "stream",
     "text": [
      "[Table(name='flights', database='default', description=None, tableType='MANAGED', isTemporary=False)]\n",
      "[Table(name='flights', database='default', description=None, tableType='MANAGED', isTemporary=False), Table(name='temp', database=None, description=None, tableType='TEMPORARY', isTemporary=True)]\n"
     ]
    }
   ],
   "source": [
    "# Create pd_temp\n",
    "pd_temp = pd.DataFrame(np.random.random(10))\n",
    "\n",
    "# Create spark_temp from pd_temp\n",
    "spark_temp = spark.createDataFrame(pd_temp)\n",
    "\n",
    "# Examine the tables in the catalog\n",
    "print(spark.catalog.listTables())\n",
    "\n",
    "# Add spark_temp to the catalog\n",
    "spark_temp.createOrReplaceTempView('temp')\n",
    "\n",
    "# Examine the tables in the catalog again\n",
    "print(spark.catalog.listTables())"
   ]
  },
  {
   "cell_type": "code",
   "execution_count": 11,
   "metadata": {},
   "outputs": [
    {
     "name": "stdout",
     "output_type": "stream",
     "text": [
      "+----+-----+---+--------+---------+--------+---------+-------+-------+------+------+----+--------+--------+----+------+------------------+\n",
      "|year|month|day|dep_time|dep_delay|arr_time|arr_delay|carrier|tailnum|flight|origin|dest|air_time|distance|hour|minute|      duration_hrs|\n",
      "+----+-----+---+--------+---------+--------+---------+-------+-------+------+------+----+--------+--------+----+------+------------------+\n",
      "|2014|    6| 12|    2121|       16|     518|       10|     UA| N489UA|   501|   SEA| EWR|     275|    2402|  21|    21| 4.583333333333333|\n",
      "|2014|    4| 30|     659|       -1|     952|       -8|     AS| N305AS|   724|   SEA| SLC|      89|     689|   6|    59|1.4833333333333334|\n",
      "|2014|    8| 30|     542|        7|     902|      -10|     UA| N24212|  1578|   SEA| DEN|     121|    1024|   5|    42|2.0166666666666666|\n",
      "|2014|    4| 17|     624|       -6|     834|       -5|     OO| N225AG|  3456|   PDX| BUR|     111|     817|   6|    24|              1.85|\n",
      "|2014|    9|  8|     705|       -5|    1239|      -21|     AA| N3GEAA|  1507|   SEA| DFW|     185|    1660|   7|     5|3.0833333333333335|\n",
      "|2014|    5|  1|     709|       -3|    1316|       -3|     UA| N409UA|   229|   SEA| IAH|     220|    1874|   7|     9|3.6666666666666665|\n",
      "|2014|    6| 21|    1619|       -1|    1837|      -23|     AS| N309AS|   119|   SEA| ANC|     184|    1448|  16|    19| 3.066666666666667|\n",
      "|2014|    3| 15|     559|       -1|     830|       -8|     AS| N618AS|   506|   SEA| SNA|     128|     978|   5|    59|2.1333333333333333|\n",
      "|2014|    4| 22|    1506|        1|    1714|       -6|     AS| N708AS|   588|   PDX| PSP|     114|     873|  15|     6|               1.9|\n",
      "|2014|    6|  9|    2055|       -8|    2237|      -22|     OO| N789SK|  5210|   PDX| SFO|      83|     550|  20|    55|1.3833333333333333|\n",
      "|2014|   12| 24|    1612|       -3|    1805|      -19|     UA| N817UA|   587|   SEA| SFO|      91|     679|  16|    12|1.5166666666666666|\n",
      "|2014|    9| 28|    1321|        6|    1830|        3|     DL| N137DL|   198|   SEA| MSP|     172|    1399|  13|    21|2.8666666666666667|\n",
      "|2014|    1| 14|     704|       -6|    1007|       -5|     DL| N327NB|  2397|   SEA| SLC|      99|     689|   7|     4|              1.65|\n",
      "|2014|    1|  8|    1737|       -3|    2133|      -32|     AS| N558AS|   877|   SEA| KOA|     337|    2688|  17|    37| 5.616666666666666|\n",
      "|2014|   11| 14|    1943|       18|    2118|       12|     AS| N565AS|   368|   SEA| SMF|      80|     605|  19|    43|1.3333333333333333|\n",
      "|2014|    2| 20|     758|       -2|    1603|      -17|     AS| N514AS|    16|   SEA| MCO|     290|    2554|   7|    58| 4.833333333333333|\n",
      "|2014|    6| 27|    1214|       39|    1435|       20|     WN| N431WN|  1927|   PDX| PHX|     119|    1009|  12|    14|1.9833333333333334|\n",
      "|2014|    6| 30|    2028|        3|    2301|       -2|     AS| N581AS|   640|   PDX| PHX|     134|    1009|  20|    28|2.2333333333333334|\n",
      "|2014|    5| 22|      29|       -1|     532|       -9|     DL| N128DL|  2001|   SEA| MSP|     165|    1399|   0|    29|              2.75|\n",
      "|2014|    9|  9|    1754|       -6|    2000|      -20|     OO| N215AG|  3462|   PDX| ONT|     107|     838|  17|    54|1.7833333333333334|\n",
      "+----+-----+---+--------+---------+--------+---------+-------+-------+------+------+----+--------+--------+----+------+------------------+\n",
      "only showing top 20 rows\n",
      "\n"
     ]
    }
   ],
   "source": [
    "# Create the DataFrame flights\n",
    "flights = spark.table('flights')\n",
    "\n",
    "# Add duration_hrs\n",
    "flights = flights.withColumn('duration_hrs', flights.air_time/60)\n",
    "\n",
    "# Show the head\n",
    "flights.show()"
   ]
  },
  {
   "cell_type": "code",
   "execution_count": 12,
   "metadata": {},
   "outputs": [
    {
     "name": "stdout",
     "output_type": "stream",
     "text": [
      "Row(year=2014, month=6, day=12, dep_time=2121, dep_delay=16, arr_time=518, arr_delay=10, carrier='UA', tailnum='N489UA', flight='501', origin='SEA', dest='EWR', air_time=275, distance=2402, hour=21, minute=21, duration_hrs=4.583333333333333)\n",
      "Row(year=2014, month=6, day=12, dep_time=2121, dep_delay=16, arr_time=518, arr_delay=10, carrier='UA', tailnum='N489UA', flight='501', origin='SEA', dest='EWR', air_time=275, distance=2402, hour=21, minute=21, duration_hrs=4.583333333333333)\n"
     ]
    }
   ],
   "source": [
    "# Filter flights by passing a string\n",
    "long_flights1 = flights.filter('distance > 1000')\n",
    "\n",
    "# Filter flights by passing a column of boolean values\n",
    "long_flights2 = flights.filter(flights.distance > 1000)\n",
    "\n",
    "# Print the data to check they're equal\n",
    "print(long_flights1.head())\n",
    "print(long_flights2.head())"
   ]
  },
  {
   "cell_type": "code",
   "execution_count": 13,
   "metadata": {},
   "outputs": [],
   "source": [
    "# Select the first set of columns\n",
    "selected1 = flights.select('tailnum', 'origin', 'dest')\n",
    "\n",
    "# Select the second set of columns\n",
    "temp = flights.select(flights.origin, flights.dest, flights.carrier)\n",
    "\n",
    "# Define first filter\n",
    "filterA = flights.origin == \"SEA\"\n",
    "\n",
    "# Define second filter\n",
    "filterB = flights.dest == \"PDX\"\n",
    "\n",
    "# Filter the data, first by filterA then by filterB\n",
    "selected2 = temp.filter(filterA).filter(filterB)"
   ]
  },
  {
   "cell_type": "code",
   "execution_count": 14,
   "metadata": {},
   "outputs": [],
   "source": [
    "# Define avg_speed\n",
    "avg_speed = (flights.distance/(flights.air_time/60)).alias(\"avg_speed\")\n",
    "\n",
    "# Select the correct columns\n",
    "speed1 = flights.select(\"origin\", \"dest\", \"tailnum\", avg_speed)\n",
    "\n",
    "# Create the same table using a SQL expression\n",
    "speed2 = flights.selectExpr(\"origin\", \"dest\", \"tailnum\", \"distance/(air_time/60) as avg_speed\")"
   ]
  },
  {
   "cell_type": "code",
   "execution_count": 15,
   "metadata": {},
   "outputs": [
    {
     "name": "stdout",
     "output_type": "stream",
     "text": [
      "+-------------+\n",
      "|min(distance)|\n",
      "+-------------+\n",
      "|          106|\n",
      "+-------------+\n",
      "\n",
      "+-------------+\n",
      "|max(air_time)|\n",
      "+-------------+\n",
      "|          409|\n",
      "+-------------+\n",
      "\n"
     ]
    }
   ],
   "source": [
    "# Find the shortest flight from PDX in terms of distance\n",
    "flights.filter(flights.origin == \"PDX\").groupBy().min('distance').show()\n",
    "\n",
    "# Find the longest flight from SEA in terms of air time\n",
    "flights.filter(flights.origin == \"SEA\").groupBy().max('air_time').show()"
   ]
  },
  {
   "cell_type": "code",
   "execution_count": 16,
   "metadata": {},
   "outputs": [
    {
     "name": "stdout",
     "output_type": "stream",
     "text": [
      "+------------------+\n",
      "|     avg(air_time)|\n",
      "+------------------+\n",
      "|188.20689655172413|\n",
      "+------------------+\n",
      "\n",
      "+-----------------+\n",
      "|sum(duration_hrs)|\n",
      "+-----------------+\n",
      "|25289.60000000005|\n",
      "+-----------------+\n",
      "\n"
     ]
    }
   ],
   "source": [
    "# Average duration of Delta flights\n",
    "flights.filter(flights.carrier == \"DL\").filter(flights.origin == \"SEA\").groupBy().avg('air_time').show()\n",
    "\n",
    "# Total hours in the air\n",
    "flights.withColumn(\"duration_hrs\", flights.air_time/60).groupBy().sum('duration_hrs').show()"
   ]
  },
  {
   "cell_type": "code",
   "execution_count": 17,
   "metadata": {},
   "outputs": [
    {
     "name": "stdout",
     "output_type": "stream",
     "text": [
      "+-------+-----+\n",
      "|tailnum|count|\n",
      "+-------+-----+\n",
      "| N442AS|   38|\n",
      "| N927DN|    1|\n",
      "| N8322X|    1|\n",
      "| N466SW|    1|\n",
      "| N73283|    4|\n",
      "| N954WN|    5|\n",
      "| N388DA|    3|\n",
      "| N513UA|    2|\n",
      "| N38451|    4|\n",
      "|  N6700|    1|\n",
      "| N102UW|    2|\n",
      "| N36472|    4|\n",
      "| N567AA|    1|\n",
      "| N516UA|    2|\n",
      "| N607AS|   45|\n",
      "| N445WN|    3|\n",
      "| N584AS|   31|\n",
      "| N835UA|    2|\n",
      "| N251WN|    1|\n",
      "| N669DN|    2|\n",
      "+-------+-----+\n",
      "only showing top 20 rows\n",
      "\n",
      "+------+------------------+\n",
      "|origin|     avg(air_time)|\n",
      "+------+------------------+\n",
      "|   SEA| 160.4361496051259|\n",
      "|   PDX|137.11543248288737|\n",
      "+------+------------------+\n",
      "\n"
     ]
    }
   ],
   "source": [
    "# Group by tailnum\n",
    "by_plane = flights.groupBy(\"tailnum\")\n",
    "\n",
    "# Number of flights each plane made\n",
    "by_plane.count().show()\n",
    "\n",
    "# Group by origin\n",
    "by_origin = flights.groupBy(\"origin\")\n",
    "\n",
    "# Average duration of flights from PDX and SEA\n",
    "by_origin.avg(\"air_time\").show()"
   ]
  },
  {
   "cell_type": "code",
   "execution_count": 18,
   "metadata": {},
   "outputs": [
    {
     "name": "stdout",
     "output_type": "stream",
     "text": [
      "+-----+----+-------------------+\n",
      "|month|dest|     avg(dep_delay)|\n",
      "+-----+----+-------------------+\n",
      "|    4| PHX| 1.6833333333333333|\n",
      "|    7| OMA|               -6.5|\n",
      "|    1| RDM|             -1.625|\n",
      "|    5| ONT| 3.5555555555555554|\n",
      "|    6| DEN|  5.418181818181818|\n",
      "|    8| MDW|               7.45|\n",
      "|    5| IAD|               -4.0|\n",
      "|   12| COS|               -1.0|\n",
      "|   11| ANC|  7.529411764705882|\n",
      "|    5| COS| 11.666666666666666|\n",
      "|    2| PSP|                0.6|\n",
      "|    5| AUS|              -0.75|\n",
      "|   11| KOA|               -1.0|\n",
      "|   10| DFW| 18.176470588235293|\n",
      "|    4| ORD|0.14285714285714285|\n",
      "|    8| JNU|             18.125|\n",
      "|   10| DCA|               -1.5|\n",
      "|   10| OMA|-0.6666666666666666|\n",
      "|    6| PHX|               10.9|\n",
      "|    1| JNU|                2.6|\n",
      "+-----+----+-------------------+\n",
      "only showing top 20 rows\n",
      "\n",
      "+-----+----+----------------------+\n",
      "|month|dest|stddev_samp(dep_delay)|\n",
      "+-----+----+----------------------+\n",
      "|    4| PHX|    15.003380033491737|\n",
      "|    7| OMA|    2.1213203435596424|\n",
      "|    1| RDM|     8.830749846821778|\n",
      "|    5| ONT|    18.895178691342874|\n",
      "|    6| DEN|    13.536905534420026|\n",
      "|    8| MDW|    14.467659032985843|\n",
      "|    5| IAD|    3.8078865529319543|\n",
      "|   12| COS|    1.4142135623730951|\n",
      "|   11| ANC|    18.604716401245316|\n",
      "|    5| COS|     33.38163167571851|\n",
      "|    2| PSP|     4.878524367060187|\n",
      "|    5| AUS|     4.031128874149275|\n",
      "|   11| KOA|    1.8708286933869707|\n",
      "|   10| DFW|     45.53019017606675|\n",
      "|    4| ORD|    11.593882803741764|\n",
      "|    8| JNU|     40.79368823727514|\n",
      "|   10| DCA|    0.7071067811865476|\n",
      "|   10| OMA|    5.8594652770823155|\n",
      "|    6| PHX|     30.82356740697461|\n",
      "|    1| JNU|      8.35463942968217|\n",
      "+-----+----+----------------------+\n",
      "only showing top 20 rows\n",
      "\n"
     ]
    }
   ],
   "source": [
    "# Group by month and dest\n",
    "by_month_dest = flights.groupBy('month', 'dest')\n",
    "\n",
    "# Average departure delay by month and destination\n",
    "by_month_dest.avg('dep_delay').show()\n",
    "\n",
    "# Standard deviation of departure delay\n",
    "by_month_dest.agg(StdDev('dep_delay')).show()"
   ]
  },
  {
   "cell_type": "code",
   "execution_count": 19,
   "metadata": {},
   "outputs": [
    {
     "name": "stdout",
     "output_type": "stream",
     "text": [
      "+---+--------------------+----------------+-----------------+----+---+---+\n",
      "|faa|                name|             lat|              lon| alt| tz|dst|\n",
      "+---+--------------------+----------------+-----------------+----+---+---+\n",
      "|04G|   Lansdowne Airport|      41.1304722|      -80.6195833|1044| -5|  A|\n",
      "|06A|Moton Field Munic...|      32.4605722|      -85.6800278| 264| -5|  A|\n",
      "|06C| Schaumburg Regional|      41.9893408|      -88.1012428| 801| -6|  A|\n",
      "|06N|     Randall Airport|       41.431912|      -74.3915611| 523| -5|  A|\n",
      "|09J|Jekyll Island Air...|      31.0744722|      -81.4277778|  11| -4|  A|\n",
      "|0A9|Elizabethton Muni...|      36.3712222|      -82.1734167|1593| -4|  A|\n",
      "|0G6|Williams County A...|      41.4673056|      -84.5067778| 730| -5|  A|\n",
      "|0G7|Finger Lakes Regi...|      42.8835647|      -76.7812318| 492| -5|  A|\n",
      "|0P2|Shoestring Aviati...|      39.7948244|      -76.6471914|1000| -5|  U|\n",
      "|0S9|Jefferson County ...|      48.0538086|     -122.8106436| 108| -8|  A|\n",
      "|0W3|Harford County Ai...|      39.5668378|      -76.2024028| 409| -5|  A|\n",
      "|10C|  Galt Field Airport|      42.4028889|      -88.3751111| 875| -6|  U|\n",
      "|17G|Port Bucyrus-Craw...|      40.7815556|      -82.9748056|1003| -5|  A|\n",
      "|19A|Jackson County Ai...|      34.1758638|      -83.5615972| 951| -4|  U|\n",
      "|1A3|Martin Campbell F...|      35.0158056|      -84.3468333|1789| -4|  A|\n",
      "|1B9| Mansfield Municipal|      42.0001331|      -71.1967714| 122| -5|  A|\n",
      "|1C9|Frazier Lake Airpark|54.0133333333333|-124.768333333333| 152| -8|  A|\n",
      "|1CS|Clow Internationa...|      41.6959744|      -88.1292306| 670| -6|  U|\n",
      "|1G3|  Kent State Airport|      41.1513889|      -81.4151111|1134| -4|  A|\n",
      "|1OH|     Fortman Airport|      40.5553253|      -84.3866186| 885| -5|  U|\n",
      "+---+--------------------+----------------+-----------------+----+---+---+\n",
      "only showing top 20 rows\n",
      "\n"
     ]
    }
   ],
   "source": [
    "# Load from CSV file\n",
    "airports_csv = 'airports.csv'\n",
    "airports = spark.read.csv(airports_csv, header=True)\n",
    "airports.show()"
   ]
  },
  {
   "cell_type": "code",
   "execution_count": 20,
   "metadata": {},
   "outputs": [
    {
     "name": "stdout",
     "output_type": "stream",
     "text": [
      "+----+----+-----+---+--------+---------+--------+---------+-------+-------+------+------+--------+--------+----+------+------------------+--------------------+---------+-----------+----+---+---+\n",
      "|dest|year|month|day|dep_time|dep_delay|arr_time|arr_delay|carrier|tailnum|flight|origin|air_time|distance|hour|minute|      duration_hrs|                name|      lat|        lon| alt| tz|dst|\n",
      "+----+----+-----+---+--------+---------+--------+---------+-------+-------+------+------+--------+--------+----+------+------------------+--------------------+---------+-----------+----+---+---+\n",
      "| EWR|2014|    6| 12|    2121|       16|     518|       10|     UA| N489UA|   501|   SEA|     275|    2402|  21|    21| 4.583333333333333| Newark Liberty Intl|  40.6925| -74.168667|  18| -5|  A|\n",
      "| SLC|2014|    4| 30|     659|       -1|     952|       -8|     AS| N305AS|   724|   SEA|      89|     689|   6|    59|1.4833333333333334| Salt Lake City Intl|40.788389|-111.977772|4227| -7|  A|\n",
      "| DEN|2014|    8| 30|     542|        7|     902|      -10|     UA| N24212|  1578|   SEA|     121|    1024|   5|    42|2.0166666666666666|         Denver Intl|39.861656|-104.673178|5431| -7|  A|\n",
      "| BUR|2014|    4| 17|     624|       -6|     834|       -5|     OO| N225AG|  3456|   PDX|     111|     817|   6|    24|              1.85|            Bob Hope|34.200667|-118.358667| 778| -8|  A|\n",
      "| DFW|2014|    9|  8|     705|       -5|    1239|      -21|     AA| N3GEAA|  1507|   SEA|     185|    1660|   7|     5|3.0833333333333335|Dallas Fort Worth...|32.896828| -97.037997| 607| -6|  A|\n",
      "| IAH|2014|    5|  1|     709|       -3|    1316|       -3|     UA| N409UA|   229|   SEA|     220|    1874|   7|     9|3.6666666666666665|George Bush Inter...|29.984433| -95.341442|  97| -6|  A|\n",
      "| ANC|2014|    6| 21|    1619|       -1|    1837|      -23|     AS| N309AS|   119|   SEA|     184|    1448|  16|    19| 3.066666666666667|Ted Stevens Ancho...|61.174361|-149.996361| 152| -9|  A|\n",
      "| SNA|2014|    3| 15|     559|       -1|     830|       -8|     AS| N618AS|   506|   SEA|     128|     978|   5|    59|2.1333333333333333|John Wayne Arpt O...|33.675667|-117.868222|  56| -8|  A|\n",
      "| PSP|2014|    4| 22|    1506|        1|    1714|       -6|     AS| N708AS|   588|   PDX|     114|     873|  15|     6|               1.9|   Palm Springs Intl|33.829667|-116.506694| 477| -8|  A|\n",
      "| SFO|2014|    6|  9|    2055|       -8|    2237|      -22|     OO| N789SK|  5210|   PDX|      83|     550|  20|    55|1.3833333333333333|  San Francisco Intl|37.618972|-122.374889|  13| -8|  A|\n",
      "| SFO|2014|   12| 24|    1612|       -3|    1805|      -19|     UA| N817UA|   587|   SEA|      91|     679|  16|    12|1.5166666666666666|  San Francisco Intl|37.618972|-122.374889|  13| -8|  A|\n",
      "| MSP|2014|    9| 28|    1321|        6|    1830|        3|     DL| N137DL|   198|   SEA|     172|    1399|  13|    21|2.8666666666666667|Minneapolis St Pa...|44.881956| -93.221767| 841| -6|  A|\n",
      "| SLC|2014|    1| 14|     704|       -6|    1007|       -5|     DL| N327NB|  2397|   SEA|      99|     689|   7|     4|              1.65| Salt Lake City Intl|40.788389|-111.977772|4227| -7|  A|\n",
      "| KOA|2014|    1|  8|    1737|       -3|    2133|      -32|     AS| N558AS|   877|   SEA|     337|    2688|  17|    37| 5.616666666666666|Kona Intl At Keahole|19.738767|-156.045631|  47|-10|  N|\n",
      "| SMF|2014|   11| 14|    1943|       18|    2118|       12|     AS| N565AS|   368|   SEA|      80|     605|  19|    43|1.3333333333333333|     Sacramento Intl|38.695417|-121.590778|  27| -8|  A|\n",
      "| MCO|2014|    2| 20|     758|       -2|    1603|      -17|     AS| N514AS|    16|   SEA|     290|    2554|   7|    58| 4.833333333333333|        Orlando Intl|28.429394| -81.308994|  96| -5|  A|\n",
      "| PHX|2014|    6| 27|    1214|       39|    1435|       20|     WN| N431WN|  1927|   PDX|     119|    1009|  12|    14|1.9833333333333334|Phoenix Sky Harbo...|33.434278|-112.011583|1135| -7|  N|\n",
      "| PHX|2014|    6| 30|    2028|        3|    2301|       -2|     AS| N581AS|   640|   PDX|     134|    1009|  20|    28|2.2333333333333334|Phoenix Sky Harbo...|33.434278|-112.011583|1135| -7|  N|\n",
      "| MSP|2014|    5| 22|      29|       -1|     532|       -9|     DL| N128DL|  2001|   SEA|     165|    1399|   0|    29|              2.75|Minneapolis St Pa...|44.881956| -93.221767| 841| -6|  A|\n",
      "| ONT|2014|    9|  9|    1754|       -6|    2000|      -20|     OO| N215AG|  3462|   PDX|     107|     838|  17|    54|1.7833333333333334|        Ontario Intl|   34.056|-117.601194| 944| -8|  A|\n",
      "+----+----+-----+---+--------+---------+--------+---------+-------+-------+------+------+--------+--------+----+------+------------------+--------------------+---------+-----------+----+---+---+\n",
      "only showing top 20 rows\n",
      "\n"
     ]
    }
   ],
   "source": [
    "# Rename the faa column\n",
    "airports = airports.withColumnRenamed(\"faa\", \"dest\")\n",
    "\n",
    "# Join the DataFrames\n",
    "flights_with_airports = flights.join(airports, on='dest', how='leftouter')\n",
    "\n",
    "# Examine the new DataFrame\n",
    "flights_with_airports.show()"
   ]
  }
 ],
 "metadata": {
  "kernelspec": {
   "display_name": "Python 3",
   "language": "python",
   "name": "python3"
  },
  "language_info": {
   "codemirror_mode": {
    "name": "ipython",
    "version": 3
   },
   "file_extension": ".py",
   "mimetype": "text/x-python",
   "name": "python",
   "nbconvert_exporter": "python",
   "pygments_lexer": "ipython3",
   "version": "3.7.5"
  }
 },
 "nbformat": 4,
 "nbformat_minor": 4
}
